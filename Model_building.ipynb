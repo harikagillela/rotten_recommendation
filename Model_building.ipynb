{
 "cells": [
  {
   "cell_type": "code",
   "execution_count": 40,
   "metadata": {},
   "outputs": [
    {
     "data": {
      "application/javascript": [
       "Jupyter.keyboard_manager.command_shortcuts.remove_shortcut('up');\n",
       "\n",
       "Jupyter.keyboard_manager.command_shortcuts.remove_shortcut('down');\n"
      ],
      "text/plain": [
       "<IPython.core.display.Javascript object>"
      ]
     },
     "metadata": {},
     "output_type": "display_data"
    }
   ],
   "source": [
    "%%javascript\n",
    "Jupyter.keyboard_manager.command_shortcuts.remove_shortcut('up');\n",
    "\n",
    "Jupyter.keyboard_manager.command_shortcuts.remove_shortcut('down');\n"
   ]
  },
  {
   "cell_type": "code",
   "execution_count": 41,
   "metadata": {},
   "outputs": [],
   "source": [
    "import pandas as pd\n",
    "import numpy as np\n",
    "import pickle\n",
    "import re\n",
    "import nltk\n",
    "from nltk.corpus import stopwords\n",
    "stop = stopwords.words('english')"
   ]
  },
  {
   "cell_type": "code",
   "execution_count": 42,
   "metadata": {},
   "outputs": [],
   "source": [
    "# import glob\n",
    "\n",
    "# print(glob.glob('*.csv'))\n",
    "\n",
    "# final_df = pd.DataFrame()\n",
    "# for i in ['0_9999k_data.csv','10k_19k_data.csv', '20k_29k_data.csv']:\n",
    "#     one_part = pd.read_csv(i)\n",
    "#     final_df = final_df.append(one_part)\n",
    "\n",
    "# final_df.to_pickle(\"27k_data.pkl\")\n",
    "# final_df.to_csv(\"27k_data.csv\", index=False)"
   ]
  },
  {
   "cell_type": "code",
   "execution_count": 43,
   "metadata": {},
   "outputs": [
    {
     "data": {
      "text/plain": [
       "(26811, 18)"
      ]
     },
     "execution_count": 43,
     "metadata": {},
     "output_type": "execute_result"
    }
   ],
   "source": [
    "final_df = pd.read_csv('27k_data.zip')\n",
    "final_df = final_df.rename(columns = lambda x : str(x).replace(':',''))\n",
    "final_df = final_df.rename(columns = lambda x : str(x).replace(\" \",'_'))\n",
    "final_df = final_df.apply(lambda x: x.replace(np.NaN,''))\n",
    "final_df = final_df.apply(lambda x: x.astype(str).str.lower())\n",
    "final_df.shape"
   ]
  },
  {
   "cell_type": "markdown",
   "metadata": {},
   "source": [
    "## Dropping the duplicate movie rows"
   ]
  },
  {
   "cell_type": "code",
   "execution_count": 44,
   "metadata": {},
   "outputs": [
    {
     "data": {
      "text/plain": [
       "(9596, 18)"
      ]
     },
     "execution_count": 44,
     "metadata": {},
     "output_type": "execute_result"
    }
   ],
   "source": [
    "final_df = final_df.drop_duplicates(subset='movie_name')\n",
    "final_df.shape"
   ]
  },
  {
   "cell_type": "code",
   "execution_count": 45,
   "metadata": {},
   "outputs": [],
   "source": [
    "# 1. Tell that we scraped from 10K movies to 27K movies\n",
    "# \ttop_5_celeb_names\tcritic_line\tcritic_url\taudience_review\tquotes\tBox_Office\n",
    "\n"
   ]
  },
  {
   "cell_type": "code",
   "execution_count": 46,
   "metadata": {},
   "outputs": [],
   "source": [
    "def stop_words_removal(only_text):\n",
    "    only_text = only_text.apply(lambda x: ' '.join([word for word in x.split() if word not in (stop)]))\n",
    "    return only_text"
   ]
  },
  {
   "cell_type": "code",
   "execution_count": 47,
   "metadata": {},
   "outputs": [],
   "source": [
    "# rating, genre, directed by, release date ( In_Theaters), Runtime, Studio, Movie_name, top_5_celeb_name, rating_words"
   ]
  },
  {
   "cell_type": "markdown",
   "metadata": {},
   "source": [
    "### Rating"
   ]
  },
  {
   "cell_type": "code",
   "execution_count": 48,
   "metadata": {},
   "outputs": [],
   "source": [
    "final_df['Rating_words'] = final_df['Rating'].str.split(\"\\s+\\(\").str[1]\n",
    "final_df['Rating_words'] = final_df.Rating_words.astype(str)\n",
    "final_df['Rating_words'] = final_df.Rating_words.str.replace('[^a-z \\n]',\"\")\n",
    "final_df['Rating_words'] = stop_words_removal(final_df.Rating_words)\n",
    "final_df['Rating_words'] = final_df.Rating_words.str.replace('nan','')\n",
    "# final_df['Rating_words'] = final_df.Rating_words.str.strip()\n",
    "# final_df['Rating_words'] = final_df.Rating_words.str.replace(' ','_')\n",
    "\n",
    "final_df['Rating'] = final_df['Rating'].str.split(\"\\s+\\(\").str[0]\n",
    "final_df['Rating'] = final_df.Rating.replace(\"nr\",\" \")\n",
    "final_df['Rating'] = final_df.Rating.str.strip()"
   ]
  },
  {
   "cell_type": "markdown",
   "metadata": {},
   "source": [
    "### Director"
   ]
  },
  {
   "cell_type": "code",
   "execution_count": 49,
   "metadata": {},
   "outputs": [],
   "source": [
    "final_df['Directed_By'] = final_df.Directed_By.str.replace('[^a-z \\n]',\"\")\n",
    "final_df['Directed_By_1'] = final_df['Directed_By'].str.split(',').str[0]\n",
    "final_df['Directed_By_1'] = final_df['Directed_By_1'].fillna(\" \")\n",
    "final_df['Directed_By_1'] = final_df.Directed_By_1.str.strip()\n",
    "final_df['Directed_By_1'] = final_df.Directed_By_1.str.replace(' ','_')\n",
    "# final_df['Directed_By_2'] = final_df['Directed_By'].str.split(',').str[1]\n",
    "# # final_df['Directed_By_2'] = final_df['Directed_By_2'].fillna(\" \")\n"
   ]
  },
  {
   "cell_type": "markdown",
   "metadata": {},
   "source": [
    "### Release Year"
   ]
  },
  {
   "cell_type": "code",
   "execution_count": 50,
   "metadata": {},
   "outputs": [],
   "source": [
    "final_df['release_year'] = final_df.In_Theaters.str.split(' ').str[2]\n",
    "final_df['release_year'] = final_df.release_year.str.replace('[^0-9 \\n]',\"\")\n",
    "\n",
    "final_df['release_year'] = final_df.release_year.fillna(0)\n",
    "final_df['release_year'] = final_df.release_year.astype(int)\n",
    "\n",
    "\n",
    "final_df.loc[(final_df['release_year'] >=1920) & (final_df['release_year'] <1950), 'release_year_brackets'] ='black_white'\n",
    "final_df.loc[(final_df['release_year'] >=1950) & (final_df['release_year'] <=1980), 'release_year_brackets'] ='pretty_old'\n",
    "final_df.loc[(final_df['release_year'] >=1980) & (final_df['release_year'] <=1990), 'release_year_brackets'] ='year_80_90'\n",
    "final_df.loc[(final_df['release_year'] >=1990) & (final_df['release_year'] <=2000), 'release_year_brackets'] ='year_90_2000'\n",
    "final_df.loc[(final_df['release_year'] >=2000) & (final_df['release_year'] <=2010), 'release_year_brackets'] ='year_2000_2010'\n",
    "final_df.loc[(final_df['release_year'] >=2010) & (final_df['release_year'] <=2020), 'release_year_brackets'] ='year_2010_2020'\n",
    "\n",
    "final_df.loc[(final_df.release_year == 0), 'release_year_brackets'] = ''"
   ]
  },
  {
   "cell_type": "markdown",
   "metadata": {},
   "source": [
    "### RunTime"
   ]
  },
  {
   "cell_type": "code",
   "execution_count": 51,
   "metadata": {},
   "outputs": [],
   "source": [
    "final_df['Runtime'] = final_df.Runtime.str.split(\" \").str[0]\n",
    "final_df['Runtime'] = final_df.Runtime.replace(\"\",np.NaN)\n",
    "final_df['Runtime'] = final_df['Runtime'].fillna(0)\n",
    "final_df['Runtime'] = final_df['Runtime'].astype(int)"
   ]
  },
  {
   "cell_type": "code",
   "execution_count": 52,
   "metadata": {
    "scrolled": true
   },
   "outputs": [],
   "source": [
    "final_df.loc[(final_df['Runtime'] > 10) & (final_df['Runtime'] < 90), 'runtime_brackets'] = 'short_till90'\n",
    "final_df.loc[(final_df['Runtime'] >= 90) & (final_df['Runtime'] < 120), 'runtime_brackets'] = 'conventional_90_120'\n",
    "final_df.loc[(final_df['Runtime'] >= 120) & (final_df['Runtime'] < 180), 'runtime_brackets'] = 'lengthy_120_180'\n",
    "final_df.loc[(final_df['Runtime'] >= 180) & (final_df['Runtime'] < 800), 'runtime_brackets'] = 'super_lengthy_180_800'\n",
    "\n",
    "final_df.loc[(final_df.runtime_brackets == 0), 'runtime_brackets'] = ' '\n",
    "\n",
    "final_df['runtime_brackets'] = final_df.runtime_brackets.fillna(\" \")\n"
   ]
  },
  {
   "cell_type": "markdown",
   "metadata": {},
   "source": [
    "### Genre"
   ]
  },
  {
   "cell_type": "code",
   "execution_count": 53,
   "metadata": {},
   "outputs": [],
   "source": [
    "final_df['Genre'] = stop_words_removal(final_df.Genre)\n",
    "final_df['Genre'] = final_df.Genre.str.replace('[^a-z \\n]',\"\")\n",
    "final_df['Genre_1'] = final_df.Genre.str.split(' ').str[0] #+ ' ' + final_df.Genre.str.split(' ').str[1] \n",
    "final_df['Genre_2'] = final_df.Genre.str.split(' ').str[1] #+ ' ' + final_df.Genre.str.split(' ').str[1] \n",
    "final_df['Genre_2'] = final_df.Genre_2.fillna(\" \")\n",
    "final_df['Genre_3'] = final_df.Genre.str.split(' ').str[2] #+ ' ' + final_df.Genre.str.split(' ').str[1] \n",
    "final_df['Genre_3'] = final_df.Genre_3.fillna(\" \")\n",
    "final_df['Genre_cleaned'] = final_df.Genre_1 + ' ' + final_df.Genre_2 + ' ' +final_df.Genre_3\n",
    "# final_df.Genre_cleaned + ' ' + final_df.Genre.str.split(' ').str[2]"
   ]
  },
  {
   "cell_type": "code",
   "execution_count": 54,
   "metadata": {},
   "outputs": [],
   "source": [
    "final_df['Genre_cleaned'] = final_df.Genre_cleaned.str.strip()\n",
    "final_df['Genre_cleaned'] =  final_df.Genre_cleaned.str.replace(' ','_')"
   ]
  },
  {
   "cell_type": "markdown",
   "metadata": {},
   "source": [
    "### Celebrity Names"
   ]
  },
  {
   "cell_type": "code",
   "execution_count": 55,
   "metadata": {},
   "outputs": [],
   "source": [
    "final_df['top_5_celeb_names'] = final_df.top_5_celeb_names.replace(\",\",' ')\n",
    "final_df['top_5_celeb_names'] = final_df.top_5_celeb_names.str.replace('[^a-z \\n]',\" \")"
   ]
  },
  {
   "cell_type": "markdown",
   "metadata": {},
   "source": [
    "### Critic Score"
   ]
  },
  {
   "cell_type": "code",
   "execution_count": 56,
   "metadata": {},
   "outputs": [],
   "source": [
    "final_df['critic_score'] = final_df.critic_score.str.replace('%','')\n",
    "final_df['critic_score'] = final_df.critic_score.astype(int)\n",
    "final_df.loc[(final_df['critic_score'] >= 80) & (final_df['critic_score'] <= 100), 'critic_score_brackets'] = 'best_critic_movie'\n",
    "\n",
    "final_df.loc[(final_df['critic_score'] >= 60) & (final_df['critic_score'] < 80), 'critic_score_brackets'] = 'good_critic_movie'\n",
    "final_df.loc[(final_df['critic_score'] >= 40) & (final_df['critic_score'] < 60), 'critic_score_brackets'] = 'avg_critic_movie'\n",
    "final_df.loc[(final_df['critic_score'] >= 20) & (final_df['critic_score'] < 40), 'critic_score_brackets'] = 'below_avg_critic_movie'\n",
    "final_df.loc[(final_df['critic_score'] >= 0) & (final_df['critic_score'] < 20), 'critic_score_brackets'] = 'worst_critic_movie'\n"
   ]
  },
  {
   "cell_type": "code",
   "execution_count": 57,
   "metadata": {},
   "outputs": [
    {
     "data": {
      "text/plain": [
       "0"
      ]
     },
     "execution_count": 57,
     "metadata": {},
     "output_type": "execute_result"
    }
   ],
   "source": [
    "final_df.critic_score.isna().sum()"
   ]
  },
  {
   "cell_type": "markdown",
   "metadata": {},
   "source": [
    "### Audience Score"
   ]
  },
  {
   "cell_type": "code",
   "execution_count": 58,
   "metadata": {},
   "outputs": [],
   "source": [
    "final_df['audience_score'] = final_df.audience_score.str.replace('%','')\n",
    "final_df['audience_score'] = final_df.audience_score.replace('','999')\n",
    "final_df['audience_score'] = final_df.audience_score.astype(int)\n",
    "final_df.loc[(final_df['audience_score'] >= 80) & (final_df['audience_score'] <= 100), 'audience_score_brackets'] = 'best_audience_movie'\n",
    "final_df.loc[(final_df['audience_score'] >= 60) & (final_df['audience_score'] < 80), 'audience_score_brackets'] = 'good_audience_movie'\n",
    "final_df.loc[(final_df['audience_score'] >= 40) & (final_df['audience_score'] < 60), 'audience_score_brackets'] = 'avg_audience_movie'\n",
    "final_df.loc[(final_df['audience_score'] >= 20) & (final_df['audience_score'] < 40), 'audience_score_brackets'] = 'below_avg_audience_movie'\n",
    "final_df.loc[(final_df['audience_score'] >= 0) & (final_df['audience_score'] < 20), 'audience_score_brackets'] = 'worst_audience_movie'\n",
    "\n",
    "final_df['audience_score_brackets'] = final_df.audience_score_brackets.replace(999,'')\n",
    "final_df['audience_score_brackets'] = final_df.audience_score_brackets.fillna('')\n"
   ]
  },
  {
   "cell_type": "markdown",
   "metadata": {},
   "source": [
    "### Critic_consensus"
   ]
  },
  {
   "cell_type": "code",
   "execution_count": 59,
   "metadata": {},
   "outputs": [],
   "source": [
    "final_df['critic_consensus'] = final_df.critic_consensus.str.replace('[^a-z \\n]',\" \")\n",
    "final_df['critic_consensus'] = stop_words_removal(final_df.critic_consensus)\n",
    "final_df['critic_consensus'] = final_df.critic_consensus.str.strip()"
   ]
  },
  {
   "cell_type": "markdown",
   "metadata": {},
   "source": [
    "## Studio"
   ]
  },
  {
   "cell_type": "code",
   "execution_count": 60,
   "metadata": {},
   "outputs": [],
   "source": [
    "final_df['Studio'] = final_df.Studio.str.replace('[^a-z \\n]',\" \")\n",
    "final_df['Studio'] = stop_words_removal(final_df.Studio)\n",
    "final_df['Studio'] = final_df.Studio.str.replace(' ','_')"
   ]
  },
  {
   "cell_type": "code",
   "execution_count": 63,
   "metadata": {},
   "outputs": [],
   "source": [
    "cosine_df = final_df[['Rating','Genre_cleaned','Directed_By_1',\n",
    "                      'runtime_brackets', 'Studio','movie_name','critic_consensus',\n",
    "                     'critic_score_brackets','audience_score_brackets','top_5_celeb_names','Rating_words',\n",
    "                      'release_year_brackets']]"
   ]
  },
  {
   "cell_type": "code",
   "execution_count": 65,
   "metadata": {},
   "outputs": [
    {
     "name": "stderr",
     "output_type": "stream",
     "text": [
      "<ipython-input-65-0262324e13d4>:1: SettingWithCopyWarning: \n",
      "A value is trying to be set on a copy of a slice from a DataFrame.\n",
      "Try using .loc[row_indexer,col_indexer] = value instead\n",
      "\n",
      "See the caveats in the documentation: https://pandas.pydata.org/pandas-docs/stable/user_guide/indexing.html#returning-a-view-versus-a-copy\n",
      "  cosine_df['combined'] = cosine_df[cosine_df.columns].apply(lambda x: ' '.join(x.dropna().astype(str)),axis=1)\n"
     ]
    }
   ],
   "source": [
    "cosine_df['combined'] = cosine_df[cosine_df.columns].apply(lambda x: ' '.join(x.dropna().astype(str)),axis=1)"
   ]
  },
  {
   "cell_type": "code",
   "execution_count": 74,
   "metadata": {},
   "outputs": [],
   "source": [
    "import matplotlib.pyplot as plt\n",
    "import seaborn as sns\n",
    "import pandas as pd\n",
    "import numpy as np\n",
    "import ast \n",
    "from scipy import stats\n",
    "from ast import literal_eval\n",
    "from sklearn.feature_extraction.text import TfidfVectorizer, CountVectorizer\n",
    "from sklearn.metrics.pairwise import linear_kernel, cosine_similarity\n",
    "from nltk.stem.snowball import SnowballStemmer\n",
    "from nltk.stem.wordnet import WordNetLemmatizer\n",
    "from nltk.corpus import wordnet\n",
    "from surprise import Reader, Dataset, SVD\n",
    "from surprise.model_selection import cross_validate\n",
    "\n",
    "import warnings; warnings.simplefilter('ignore')"
   ]
  },
  {
   "cell_type": "code",
   "execution_count": 71,
   "metadata": {},
   "outputs": [],
   "source": [
    "tf = TfidfVectorizer(analyzer='word',ngram_range=(1, 2),min_df=0, stop_words='english')\n",
    "tfidf_matrix = tf.fit_transform(cosine_df['combined'])"
   ]
  },
  {
   "cell_type": "code",
   "execution_count": 72,
   "metadata": {},
   "outputs": [
    {
     "data": {
      "text/plain": [
       "<9596x213545 sparse matrix of type '<class 'numpy.float64'>'\n",
       "\twith 524064 stored elements in Compressed Sparse Row format>"
      ]
     },
     "execution_count": 72,
     "metadata": {},
     "output_type": "execute_result"
    }
   ],
   "source": [
    "tfidf_matrix"
   ]
  },
  {
   "cell_type": "code",
   "execution_count": 75,
   "metadata": {},
   "outputs": [],
   "source": [
    "# http://scikit-learn.org/stable/modules/metrics.html#linear-kernel\n",
    "cosine_sim = linear_kernel(tfidf_matrix, tfidf_matrix)"
   ]
  },
  {
   "cell_type": "code",
   "execution_count": 76,
   "metadata": {},
   "outputs": [
    {
     "data": {
      "text/plain": [
       "array([1.        , 0.01016072, 0.        , ..., 0.        , 0.        ,\n",
       "       0.00235269])"
      ]
     },
     "execution_count": 76,
     "metadata": {},
     "output_type": "execute_result"
    }
   ],
   "source": [
    "cosine_sim[0]"
   ]
  },
  {
   "cell_type": "code",
   "execution_count": 78,
   "metadata": {},
   "outputs": [],
   "source": [
    "cosine_df = cosine_df.reset_index(drop=True)\n",
    "titles = cosine_df['movie_name']\n",
    "indices = pd.Series(cosine_df.index, index=cosine_df['movie_name'])"
   ]
  },
  {
   "cell_type": "code",
   "execution_count": 79,
   "metadata": {},
   "outputs": [],
   "source": [
    "def get_recommendations(title):\n",
    "    idx = indices[title]\n",
    "    sim_scores = list(enumerate(cosine_sim[idx]))\n",
    "    sim_scores = sorted(sim_scores, key=lambda x: x[1], reverse=True)\n",
    "    sim_scores = sim_scores[1:31]\n",
    "    movie_indices = [i[0] for i in sim_scores]\n",
    "    return titles.iloc[movie_indices]"
   ]
  },
  {
   "cell_type": "code",
   "execution_count": 95,
   "metadata": {},
   "outputs": [
    {
     "data": {
      "text/plain": [
       "'love aaj kal'"
      ]
     },
     "execution_count": 95,
     "metadata": {},
     "output_type": "execute_result"
    }
   ],
   "source": [
    "indices.index[444]"
   ]
  },
  {
   "cell_type": "code",
   "execution_count": 100,
   "metadata": {},
   "outputs": [
    {
     "data": {
      "text/plain": [
       "'spider-man: into the spider-verse'"
      ]
     },
     "execution_count": 100,
     "metadata": {},
     "output_type": "execute_result"
    }
   ],
   "source": [
    "indices.index[1122]"
   ]
  },
  {
   "cell_type": "code",
   "execution_count": 99,
   "metadata": {},
   "outputs": [
    {
     "data": {
      "text/plain": [
       "3709                  banksy does new york\n",
       "411     pete davidson: alive from new york\n",
       "1499               susanne bartsch: on top\n",
       "6942                    sunday in new york\n",
       "7638                  new york, i love you\n",
       "7214                  ny export: opus jazz\n",
       "6675              bill cunningham new york\n",
       "5889                    2 days in new york\n",
       "3699                   welcome to new york\n",
       "1213                       the hate u give\n",
       "Name: movie_name, dtype: object"
      ]
     },
     "execution_count": 99,
     "metadata": {},
     "output_type": "execute_result"
    }
   ],
   "source": [
    "get_recommendations('i hate new york').head(10)"
   ]
  },
  {
   "cell_type": "code",
   "execution_count": 102,
   "metadata": {},
   "outputs": [
    {
     "data": {
      "text/plain": [
       "6200                   jannat 2\n",
       "280                  extraction\n",
       "4200                agent vinod\n",
       "8460                     tashan\n",
       "9290              ta ra rum pum\n",
       "6322                   rockstar\n",
       "4320                   i am ali\n",
       "6048                   cocktail\n",
       "4264                  aarakshan\n",
       "8492    thoda pyaar thoda magic\n",
       "Name: movie_name, dtype: object"
      ]
     },
     "execution_count": 102,
     "metadata": {},
     "output_type": "execute_result"
    }
   ],
   "source": [
    "get_recommendations('love aaj kal').head(10)"
   ]
  },
  {
   "cell_type": "code",
   "execution_count": 101,
   "metadata": {},
   "outputs": [
    {
     "data": {
      "text/plain": [
       "5869          the amazing spider-man\n",
       "9075                    spider-man 3\n",
       "702        spider-man: far from home\n",
       "2172          spider-man: homecoming\n",
       "1182    the girl in the spider's web\n",
       "4504        the amazing spider-man 2\n",
       "1274                           venom\n",
       "3584                            dope\n",
       "8464        kiss of the spider woman\n",
       "5015                 big ass spider!\n",
       "Name: movie_name, dtype: object"
      ]
     },
     "execution_count": 101,
     "metadata": {},
     "output_type": "execute_result"
    }
   ],
   "source": [
    "get_recommendations('spider-man: into the spider-verse').head(10)"
   ]
  },
  {
   "cell_type": "code",
   "execution_count": null,
   "metadata": {},
   "outputs": [],
   "source": []
  }
 ],
 "metadata": {
  "kernelspec": {
   "display_name": "Python 3",
   "language": "python",
   "name": "python3"
  },
  "language_info": {
   "codemirror_mode": {
    "name": "ipython",
    "version": 3
   },
   "file_extension": ".py",
   "mimetype": "text/x-python",
   "name": "python",
   "nbconvert_exporter": "python",
   "pygments_lexer": "ipython3",
   "version": "3.8.3"
  }
 },
 "nbformat": 4,
 "nbformat_minor": 4
}
